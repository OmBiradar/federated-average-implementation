{
 "cells": [
  {
   "cell_type": "markdown",
   "metadata": {},
   "source": [
    "# Clear Previous Files"
   ]
  },
  {
   "cell_type": "code",
   "execution_count": 1,
   "metadata": {},
   "outputs": [],
   "source": [
    "# Clear previous files\n",
    "!rm -rf ./Rounds\n",
    "!rm -rf ./Client_data"
   ]
  },
  {
   "cell_type": "markdown",
   "metadata": {},
   "source": [
    "# Model description"
   ]
  },
  {
   "cell_type": "code",
   "execution_count": 2,
   "metadata": {},
   "outputs": [],
   "source": [
    "NUM_CLIENTS = 2 # Only used to split the data set"
   ]
  },
  {
   "cell_type": "markdown",
   "metadata": {},
   "source": [
    "# Data Set creation"
   ]
  },
  {
   "cell_type": "code",
   "execution_count": 3,
   "metadata": {},
   "outputs": [
    {
     "name": "stderr",
     "output_type": "stream",
     "text": [
      "2024-12-17 20:37:35.082014: I tensorflow/tsl/cuda/cudart_stub.cc:28] Could not find cuda drivers on your machine, GPU will not be used.\n",
      "2024-12-17 20:37:35.108597: E tensorflow/compiler/xla/stream_executor/cuda/cuda_dnn.cc:9342] Unable to register cuDNN factory: Attempting to register factory for plugin cuDNN when one has already been registered\n",
      "2024-12-17 20:37:35.108626: E tensorflow/compiler/xla/stream_executor/cuda/cuda_fft.cc:609] Unable to register cuFFT factory: Attempting to register factory for plugin cuFFT when one has already been registered\n",
      "2024-12-17 20:37:35.108657: E tensorflow/compiler/xla/stream_executor/cuda/cuda_blas.cc:1518] Unable to register cuBLAS factory: Attempting to register factory for plugin cuBLAS when one has already been registered\n",
      "2024-12-17 20:37:35.115271: I tensorflow/tsl/cuda/cudart_stub.cc:28] Could not find cuda drivers on your machine, GPU will not be used.\n",
      "2024-12-17 20:37:35.115858: I tensorflow/core/platform/cpu_feature_guard.cc:182] This TensorFlow binary is optimized to use available CPU instructions in performance-critical operations.\n",
      "To enable the following instructions: AVX2 FMA, in other operations, rebuild TensorFlow with the appropriate compiler flags.\n",
      "2024-12-17 20:37:35.805474: W tensorflow/compiler/tf2tensorrt/utils/py_utils.cc:38] TF-TRT Warning: Could not find TensorRT\n"
     ]
    },
    {
     "name": "stdout",
     "output_type": "stream",
     "text": [
      "Training data shape: (60000, 28, 28) (60000,)\n",
      "Test data shape: (10000, 28, 28) (10000,)\n"
     ]
    }
   ],
   "source": [
    "import tensorflow as tf\n",
    "import numpy as np\n",
    "\n",
    "# Download MNIST dataset\n",
    "(train_X, train_y), (test_X, test_y) = tf.keras.datasets.mnist.load_data()\n",
    "\n",
    "# Check shapes\n",
    "print(\"Training data shape:\", train_X.shape, train_y.shape)\n",
    "print(\"Test data shape:\", test_X.shape, test_y.shape)"
   ]
  },
  {
   "cell_type": "code",
   "execution_count": 4,
   "metadata": {},
   "outputs": [
    {
     "name": "stdout",
     "output_type": "stream",
     "text": [
      "(60000, 28, 28)\n",
      "Client 1: X shape = (60000, 28, 28), y shape = (60000,)\n",
      "Saved as file client_1_data.npz\n",
      "Client 2: X shape = (60000, 28, 28), y shape = (60000,)\n",
      "Saved as file client_2_data.npz\n"
     ]
    }
   ],
   "source": [
    "clients_data = []\n",
    "split_factor = 1\n",
    "for i in range(NUM_CLIENTS):\n",
    "    select = len(train_X) // split_factor\n",
    "    shuffle_idx = np.random.permutation(train_X.shape[0])\n",
    "    shuffled_x = train_X[shuffle_idx]\n",
    "    shuffled_y = train_y[shuffle_idx]\n",
    "    train_X_selected = shuffled_x[:select]\n",
    "    train_y_selected = shuffled_y[:select]\n",
    "    clients_data.append((train_X_selected, train_y_selected))\n",
    "print(clients_data[0][0].shape)\n",
    "import os\n",
    "os.mkdir('./Client_data')\n",
    "for i, (client_X, client_y) in enumerate(clients_data):\n",
    "    print(f\"Client {i+1}: X shape = {client_X.shape}, y shape = {client_y.shape}\")\n",
    "    np.savez(f\"./Client_data/client_{i+1}_data.npz\",\n",
    "             X=client_X, y=client_y)\n",
    "    print(f\"Saved as file client_{i+1}_data.npz\")"
   ]
  },
  {
   "cell_type": "markdown",
   "metadata": {},
   "source": [
    "# Creating the model"
   ]
  },
  {
   "cell_type": "code",
   "execution_count": 5,
   "metadata": {},
   "outputs": [
    {
     "name": "stderr",
     "output_type": "stream",
     "text": [
      "2024-12-17 20:37:37.875898: I tensorflow/compiler/xla/stream_executor/cuda/cuda_gpu_executor.cc:880] could not open file to read NUMA node: /sys/bus/pci/devices/0000:01:00.0/numa_node\n",
      "Your kernel may have been built without NUMA support.\n",
      "2024-12-17 20:37:37.876169: W tensorflow/core/common_runtime/gpu/gpu_device.cc:2211] Cannot dlopen some GPU libraries. Please make sure the missing libraries mentioned above are installed properly if you would like to use GPU. Follow the guide at https://www.tensorflow.org/install/gpu for how to download and setup the required libraries for your platform.\n",
      "Skipping registering GPU devices...\n"
     ]
    }
   ],
   "source": [
    "import tensorflow as tf\n",
    "import tensorflow_federated as tff\n",
    "import os  # future use\n",
    "import sys # future use\n",
    "from contextlib import redirect_stdout # future use \n",
    "tf.get_logger().setLevel('ERROR') # Supress tensor flow messages\n",
    "\n",
    "# Define the model\n",
    "def generate_model():\n",
    "        model = tf.keras.Sequential([\n",
    "                tf.keras.layers.Flatten(input_shape=(28, 28)),\n",
    "                tf.keras.layers.InputLayer(input_shape=(784,)),\n",
    "                tf.keras.layers.Dense(10, kernel_initializer='zeros'),\n",
    "                tf.keras.layers.Softmax(),\n",
    "        ])\n",
    "        model.compile(optimizer=tf.keras.optimizers.SGD(learning_rate=0.02, momentum=0.9), \n",
    "                        loss='sparse_categorical_crossentropy', \n",
    "                        metrics=['accuracy'])\n",
    "        return model\n",
    "\n",
    "server_model = generate_model()\n",
    "\n",
    "server_model.save('./Rounds/0/server_model_round_0')"
   ]
  },
  {
   "cell_type": "code",
   "execution_count": 6,
   "metadata": {},
   "outputs": [
    {
     "name": "stdout",
     "output_type": "stream",
     "text": [
      "Model: \"sequential_1\"\n",
      "_________________________________________________________________\n",
      " Layer (type)                Output Shape              Param #   \n",
      "=================================================================\n",
      " flatten_1 (Flatten)         (None, 784)               0         \n",
      "                                                                 \n",
      " input_2 (InputLayer)        multiple                  0         \n",
      "                                                                 \n",
      " dense_1 (Dense)             (None, 10)                7850      \n",
      "                                                                 \n",
      " softmax_1 (Softmax)         (None, 10)                0         \n",
      "                                                                 \n",
      "=================================================================\n",
      "Total params: 7850 (30.66 KB)\n",
      "Trainable params: 7850 (30.66 KB)\n",
      "Non-trainable params: 0 (0.00 Byte)\n",
      "_________________________________________________________________\n"
     ]
    }
   ],
   "source": [
    "generate_model().summary()"
   ]
  },
  {
   "cell_type": "markdown",
   "metadata": {},
   "source": [
    "# Clients train the model"
   ]
  },
  {
   "cell_type": "code",
   "execution_count": 7,
   "metadata": {},
   "outputs": [],
   "source": [
    "def client(i: int, e: int, r: int):\n",
    "    \"\"\"\n",
    "    i -> client number\n",
    "    e -> no of epoches\n",
    "    r -> current server round\n",
    "    \"\"\"\n",
    "    \n",
    "    # Load Data\n",
    "    \n",
    "    data = np.load(f'./Client_data/client_{i}_data.npz')\n",
    "    X = data['X']\n",
    "    y = data['y']\n",
    "\n",
    "    # Load Server Model\n",
    "\n",
    "    model = tf.keras.models.load_model(f'./Rounds/{r-1}/server_model_round_{r-1}')\n",
    "\n",
    "    # Train the model\n",
    "\n",
    "    history = model.fit(X, y, epochs=e, verbose=0)\n",
    "\n",
    "    log(i, r, history)\n",
    "\n",
    "    # Save the model\n",
    "    with open(os.devnull, 'w') as f, redirect_stdout(f):\n",
    "        model.save(f'./Rounds/{r}/client_models/client_{i}_round_{r}_model')"
   ]
  },
  {
   "cell_type": "code",
   "execution_count": 8,
   "metadata": {},
   "outputs": [],
   "source": [
    "def fetch_client_models(r, e):    \n",
    "    for i in range(1, NUM_CLIENTS+1):\n",
    "        client(i, e, r)"
   ]
  },
  {
   "cell_type": "markdown",
   "metadata": {},
   "source": [
    "# Server updates the main model"
   ]
  },
  {
   "cell_type": "code",
   "execution_count": 9,
   "metadata": {},
   "outputs": [],
   "source": [
    "def update_server_model(round):\n",
    "\n",
    "  import tensorflow_federated as tff\n",
    "\n",
    "  # Load all client models\n",
    "\n",
    "  client_models = [tf.keras.models.load_model(f'./Rounds/{round}/client_models/client_{i}_round_{round}_model') for i in range(1, NUM_CLIENTS+1)]\n",
    "\n",
    "  client_weights = [model.get_weights() for model in client_models]\n",
    "\n",
    "  def average_weights(weights):\n",
    "      \"\"\"\n",
    "      Returns the average of a given list of weights.\n",
    "\n",
    "      Args:\n",
    "        weights: A list of weights, where each element is a list of weights for a single layer.\n",
    "\n",
    "      Returns:\n",
    "        A list of averaged weights.\n",
    "      \"\"\"\n",
    "      return [(sum(w) / len(w)) for w in zip(*weights)]\n",
    "\n",
    "  average_weights = average_weights(client_weights)\n",
    "\n",
    "  # Save the new model\n",
    "\n",
    "  server_model = generate_model()\n",
    "\n",
    "  \n",
    "\n",
    "  server_model.set_weights(average_weights)\n",
    "  with open(os.devnull, 'w') as f, redirect_stdout(f):\n",
    "    server_model.save(f'./Rounds/{round}/server_model_round_{round}') \n",
    "\n",
    "  print(\"Server model created and saved successfully!\")"
   ]
  },
  {
   "cell_type": "markdown",
   "metadata": {},
   "source": [
    "# Trend of server model developemnt"
   ]
  },
  {
   "cell_type": "code",
   "execution_count": 10,
   "metadata": {},
   "outputs": [],
   "source": [
    "\n",
    "def evaluation():\n",
    "    global MAX_ROUNDS\n",
    "    for round in range(0, MAX_ROUNDS+1):\n",
    "        server_model = tf.keras.models.load_model(f'./Rounds/{round}/server_model_round_{round}')\n",
    "        loss, accuracy = server_model.evaluate(test_X, test_y, verbose=1) # verbose=1 prints progress bar\n",
    "\n",
    "        print(f\"Test Loss: {loss:.4f}\")\n",
    "        print(f\"Test Accuracy: {accuracy*100:.4f}%\")"
   ]
  },
  {
   "cell_type": "markdown",
   "metadata": {},
   "source": [
    "# Generate Logs for client & server model performance"
   ]
  },
  {
   "cell_type": "code",
   "execution_count": 11,
   "metadata": {},
   "outputs": [],
   "source": [
    "def log(i, r, history):\n",
    "    global LOG\n",
    "    if r not in LOG:\n",
    "        LOG[r] = {}\n",
    "    LOG[r][i] = history\n",
    "\n",
    "def print_log(r):\n",
    "    print(f\"Round {r}\")\n",
    "    for i in range(1, NUM_CLIENTS+1):\n",
    "        print(f\"Client {i}\")\n",
    "        if i in LOG[r]:  # Ensure client data exists\n",
    "            print(f\"Loss : {LOG[r][i].history['loss'][-1]}\")\n",
    "            print(f\"Accuracy : {LOG[r][i].history['accuracy'][-1] * 100:.2f}%\")\n",
    "        else:\n",
    "            print(\"No data logged.\")\n",
    "\n",
    "    print(\"Server\")\n",
    "    server_model = tf.keras.models.load_model(f'./Rounds/{r}/server_model_round_{r}')\n",
    "    loss, accuracy = server_model.evaluate(test_X, test_y, verbose=1) # verbose=1 prints progress bar\n",
    "\n",
    "    print(f\"Test Loss: {loss:.4f}\")\n",
    "    print(f\"Test Accuracy: {accuracy*100:.4f}%\")\n"
   ]
  },
  {
   "cell_type": "markdown",
   "metadata": {},
   "source": [
    "# Orchestration"
   ]
  },
  {
   "cell_type": "code",
   "execution_count": 12,
   "metadata": {},
   "outputs": [
    {
     "name": "stdout",
     "output_type": "stream",
     "text": [
      "Server model created and saved successfully!\n",
      "Round 1\n",
      "Client 1\n",
      "Loss : 3919.89697265625\n",
      "Accuracy : 9.92%\n",
      "Client 2\n",
      "Loss : 3889.63671875\n",
      "Accuracy : 9.93%\n",
      "Server\n",
      "313/313 [==============================] - 0s 766us/step - loss: 4071.3169 - accuracy: 0.1026\n",
      "Test Loss: 4071.3169\n",
      "Test Accuracy: 10.2600%\n",
      "Server model created and saved successfully!\n",
      "Round 2\n",
      "Client 1\n",
      "Loss : 4011.587646484375\n",
      "Accuracy : 9.91%\n",
      "Client 2\n",
      "Loss : 4032.720458984375\n",
      "Accuracy : 9.92%\n",
      "Server\n",
      "313/313 [==============================] - 0s 863us/step - loss: 3288.3191 - accuracy: 0.1082\n",
      "Test Loss: 3288.3191\n",
      "Test Accuracy: 10.8200%\n",
      "Server model created and saved successfully!\n",
      "Round 3\n",
      "Client 1\n",
      "Loss : 3924.025634765625\n",
      "Accuracy : 9.93%\n",
      "Client 2\n",
      "Loss : 3807.34765625\n",
      "Accuracy : 9.93%\n",
      "Server\n",
      "313/313 [==============================] - 0s 748us/step - loss: 3288.3569 - accuracy: 0.0942\n",
      "Test Loss: 3288.3569\n",
      "Test Accuracy: 9.4200%\n",
      "Server model created and saved successfully!\n",
      "Round 4\n",
      "Client 1\n",
      "Loss : 3854.637939453125\n",
      "Accuracy : 9.91%\n",
      "Client 2\n",
      "Loss : 3754.49755859375\n",
      "Accuracy : 9.92%\n",
      "Server\n",
      "313/313 [==============================] - 0s 759us/step - loss: 3404.0125 - accuracy: 0.0981\n",
      "Test Loss: 3404.0125\n",
      "Test Accuracy: 9.8100%\n",
      "Server model created and saved successfully!\n",
      "Round 5\n",
      "Client 1\n",
      "Loss : 3822.388916015625\n",
      "Accuracy : 9.91%\n",
      "Client 2\n",
      "Loss : 3775.9677734375\n",
      "Accuracy : 9.92%\n",
      "Server\n",
      "313/313 [==============================] - 0s 740us/step - loss: 3456.1487 - accuracy: 0.1046\n",
      "Test Loss: 3456.1487\n",
      "Test Accuracy: 10.4600%\n",
      "Server model created and saved successfully!\n",
      "Round 6\n",
      "Client 1\n",
      "Loss : 3736.075927734375\n",
      "Accuracy : 9.92%\n",
      "Client 2\n",
      "Loss : 3686.013916015625\n",
      "Accuracy : 9.92%\n",
      "Server\n",
      "313/313 [==============================] - 0s 761us/step - loss: 3510.3428 - accuracy: 0.1039\n",
      "Test Loss: 3510.3428\n",
      "Test Accuracy: 10.3900%\n",
      "Server model created and saved successfully!\n",
      "Round 7\n",
      "Client 1\n",
      "Loss : 3711.81494140625\n",
      "Accuracy : 9.92%\n",
      "Client 2\n",
      "Loss : 3798.06298828125\n",
      "Accuracy : 9.91%\n",
      "Server\n",
      "313/313 [==============================] - 0s 756us/step - loss: 3510.1443 - accuracy: 0.1014\n",
      "Test Loss: 3510.1443\n",
      "Test Accuracy: 10.1400%\n",
      "Server model created and saved successfully!\n",
      "Round 8\n",
      "Client 1\n",
      "Loss : 3655.6650390625\n",
      "Accuracy : 9.93%\n",
      "Client 2\n",
      "Loss : 3762.7099609375\n",
      "Accuracy : 9.91%\n",
      "Server\n",
      "313/313 [==============================] - 0s 781us/step - loss: 3725.8083 - accuracy: 0.1063\n",
      "Test Loss: 3725.8083\n",
      "Test Accuracy: 10.6300%\n",
      "Server model created and saved successfully!\n",
      "Round 9\n",
      "Client 1\n",
      "Loss : 3551.563232421875\n",
      "Accuracy : 9.91%\n",
      "Client 2\n",
      "Loss : 3661.96240234375\n",
      "Accuracy : 9.91%\n",
      "Server\n",
      "313/313 [==============================] - 0s 791us/step - loss: 3438.7639 - accuracy: 0.1060\n",
      "Test Loss: 3438.7639\n",
      "Test Accuracy: 10.6000%\n",
      "Server model created and saved successfully!\n",
      "Round 10\n",
      "Client 1\n",
      "Loss : 3768.672607421875\n",
      "Accuracy : 9.93%\n",
      "Client 2\n",
      "Loss : 3700.424560546875\n",
      "Accuracy : 9.93%\n",
      "Server\n",
      "313/313 [==============================] - 0s 951us/step - loss: 3463.1963 - accuracy: 0.0992\n",
      "Test Loss: 3463.1963\n",
      "Test Accuracy: 9.9200%\n",
      "313/313 [==============================] - 0s 767us/step - loss: 2.3026 - accuracy: 1.0000\n",
      "Test Loss: 2.3026\n",
      "Test Accuracy: 100.0000%\n",
      "313/313 [==============================] - 0s 778us/step - loss: 4071.3169 - accuracy: 0.1026\n",
      "Test Loss: 4071.3169\n",
      "Test Accuracy: 10.2600%\n",
      "313/313 [==============================] - 0s 823us/step - loss: 3288.3191 - accuracy: 0.1082\n",
      "Test Loss: 3288.3191\n",
      "Test Accuracy: 10.8200%\n",
      "313/313 [==============================] - 0s 761us/step - loss: 3288.3569 - accuracy: 0.0942\n",
      "Test Loss: 3288.3569\n",
      "Test Accuracy: 9.4200%\n",
      "313/313 [==============================] - 0s 757us/step - loss: 3404.0125 - accuracy: 0.0981\n",
      "Test Loss: 3404.0125\n",
      "Test Accuracy: 9.8100%\n",
      "313/313 [==============================] - 0s 770us/step - loss: 3456.1487 - accuracy: 0.1046\n",
      "Test Loss: 3456.1487\n",
      "Test Accuracy: 10.4600%\n",
      "313/313 [==============================] - 0s 751us/step - loss: 3510.3428 - accuracy: 0.1039\n",
      "Test Loss: 3510.3428\n",
      "Test Accuracy: 10.3900%\n",
      "313/313 [==============================] - 0s 796us/step - loss: 3510.1443 - accuracy: 0.1014\n",
      "Test Loss: 3510.1443\n",
      "Test Accuracy: 10.1400%\n",
      "313/313 [==============================] - 0s 790us/step - loss: 3725.8083 - accuracy: 0.1063\n",
      "Test Loss: 3725.8083\n",
      "Test Accuracy: 10.6300%\n",
      "313/313 [==============================] - 0s 844us/step - loss: 3438.7639 - accuracy: 0.1060\n",
      "Test Loss: 3438.7639\n",
      "Test Accuracy: 10.6000%\n",
      "313/313 [==============================] - 0s 752us/step - loss: 3463.1963 - accuracy: 0.0992\n",
      "Test Loss: 3463.1963\n",
      "Test Accuracy: 9.9200%\n"
     ]
    }
   ],
   "source": [
    "# no of epochs \n",
    "e = 5\n",
    "# Run for MAX_ROUNDS\n",
    "\n",
    "LOG = {}\n",
    "\n",
    "MAX_ROUNDS = 10\n",
    "for r in range(1, MAX_ROUNDS+1):\n",
    "    fetch_client_models(r, e)\n",
    "    update_server_model(r)\n",
    "    print_log(r)\n",
    "evaluation()"
   ]
  }
 ],
 "metadata": {
  "kernelspec": {
   "display_name": "venv",
   "language": "python",
   "name": "python3"
  },
  "language_info": {
   "codemirror_mode": {
    "name": "ipython",
    "version": 3
   },
   "file_extension": ".py",
   "mimetype": "text/x-python",
   "name": "python",
   "nbconvert_exporter": "python",
   "pygments_lexer": "ipython3",
   "version": "3.10.12"
  }
 },
 "nbformat": 4,
 "nbformat_minor": 2
}
